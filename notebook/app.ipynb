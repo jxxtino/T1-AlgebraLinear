{
 "cells": [
  {
   "cell_type": "markdown",
   "id": "e90b60d2",
   "metadata": {},
   "source": [
    "# Instalando Bibliotecas"
   ]
  },
  {
   "cell_type": "code",
   "execution_count": null,
   "id": "69b8803a",
   "metadata": {},
   "outputs": [],
   "source": [
    "%pip install -r \"../requirements.txt\""
   ]
  },
  {
   "cell_type": "markdown",
   "id": "a922ff45",
   "metadata": {},
   "source": [
    "## Importando Bibliotecas"
   ]
  },
  {
   "cell_type": "code",
   "execution_count": null,
   "id": "91ebb9e8",
   "metadata": {},
   "outputs": [],
   "source": [
    "import pandas as pd\n",
    "\n",
    "import nltk\n",
    "from nltk.corpus import stopwords\n",
    "from nltk.tokenize import word_tokenize\n",
    "\n",
    "from sklearn.feature_extraction.text import TfidfVectorizer\n",
    "from sklearn.metrics.pairwise import cosine_similarity\n",
    "\n",
    "import numpy as np\n",
    "\n",
    "nltk.download('punkt_tab')"
   ]
  },
  {
   "cell_type": "markdown",
   "id": "6d11e76f",
   "metadata": {},
   "source": [
    "## Leitura e Limpeza dos Dados"
   ]
  },
  {
   "cell_type": "code",
   "execution_count": 595,
   "id": "76701578",
   "metadata": {},
   "outputs": [],
   "source": [
    "df_raw = pd.read_csv(\"../data/winemag-data-130k-v2.csv\")"
   ]
  },
  {
   "cell_type": "code",
   "execution_count": 596,
   "id": "040fd95a",
   "metadata": {},
   "outputs": [],
   "source": [
    "df = df_raw[[\"designation\",\"description\"]]"
   ]
  },
  {
   "cell_type": "code",
   "execution_count": 597,
   "id": "45ce05b0",
   "metadata": {},
   "outputs": [],
   "source": [
    "df = df.drop_duplicates().dropna().reset_index(drop=True)"
   ]
  },
  {
   "cell_type": "code",
   "execution_count": 598,
   "id": "89be9fd0",
   "metadata": {},
   "outputs": [
    {
     "data": {
      "text/html": [
       "<div>\n",
       "<style scoped>\n",
       "    .dataframe tbody tr th:only-of-type {\n",
       "        vertical-align: middle;\n",
       "    }\n",
       "\n",
       "    .dataframe tbody tr th {\n",
       "        vertical-align: top;\n",
       "    }\n",
       "\n",
       "    .dataframe thead th {\n",
       "        text-align: right;\n",
       "    }\n",
       "</style>\n",
       "<table border=\"1\" class=\"dataframe\">\n",
       "  <thead>\n",
       "    <tr style=\"text-align: right;\">\n",
       "      <th></th>\n",
       "      <th>designation</th>\n",
       "      <th>description</th>\n",
       "    </tr>\n",
       "  </thead>\n",
       "  <tbody>\n",
       "    <tr>\n",
       "      <th>77030</th>\n",
       "      <td>Le Village</td>\n",
       "      <td>Attractive, luscious fruits are balanced by ac...</td>\n",
       "    </tr>\n",
       "    <tr>\n",
       "      <th>83944</th>\n",
       "      <td>Xplorador</td>\n",
       "      <td>Ripe and ready, with powerful dark fruit. This...</td>\n",
       "    </tr>\n",
       "    <tr>\n",
       "      <th>66680</th>\n",
       "      <td>Laguna Knoll Vineyard</td>\n",
       "      <td>Raspberry crumble immediately comes to mind in...</td>\n",
       "    </tr>\n",
       "  </tbody>\n",
       "</table>\n",
       "</div>"
      ],
      "text/plain": [
       "                 designation  \\\n",
       "77030             Le Village   \n",
       "83944              Xplorador   \n",
       "66680  Laguna Knoll Vineyard   \n",
       "\n",
       "                                             description  \n",
       "77030  Attractive, luscious fruits are balanced by ac...  \n",
       "83944  Ripe and ready, with powerful dark fruit. This...  \n",
       "66680  Raspberry crumble immediately comes to mind in...  "
      ]
     },
     "execution_count": 598,
     "metadata": {},
     "output_type": "execute_result"
    }
   ],
   "source": [
    "df.sample(3)"
   ]
  },
  {
   "cell_type": "markdown",
   "id": "b332d046",
   "metadata": {},
   "source": [
    "## Removendo \"Stop Words\""
   ]
  },
  {
   "cell_type": "code",
   "execution_count": 599,
   "id": "cbe51e30",
   "metadata": {},
   "outputs": [],
   "source": [
    "stop_words = set(stopwords.words(\"english\"))"
   ]
  },
  {
   "cell_type": "code",
   "execution_count": null,
   "id": "0555b2de",
   "metadata": {},
   "outputs": [],
   "source": [
    "def remove_stopwords(column: pd.Series) -> pd.Series:\n",
    "    return column.apply(\n",
    "        lambda description: \" \".join(\n",
    "            [\n",
    "             word for word in word_tokenize(description)\n",
    "             if word.lower() not in stop_words \n",
    "             and word.isalpha()\n",
    "             ]\n",
    "        )\n",
    "    )"
   ]
  },
  {
   "cell_type": "code",
   "execution_count": null,
   "id": "325495b6",
   "metadata": {},
   "outputs": [],
   "source": [
    "df[\"clean_description\"] = remove_stopwords(df[\"description\"])"
   ]
  },
  {
   "cell_type": "markdown",
   "id": "a2897dd5",
   "metadata": {},
   "source": [
    "## Vetorizando os Dados"
   ]
  },
  {
   "cell_type": "code",
   "execution_count": 602,
   "id": "40c318a5",
   "metadata": {},
   "outputs": [],
   "source": [
    "vectorizer = TfidfVectorizer()"
   ]
  },
  {
   "cell_type": "code",
   "execution_count": 603,
   "id": "baf3999a",
   "metadata": {},
   "outputs": [],
   "source": [
    "df_matrix = vectorizer.fit_transform(df[\"clean_description\"])"
   ]
  },
  {
   "cell_type": "code",
   "execution_count": 620,
   "id": "327a54bf",
   "metadata": {},
   "outputs": [
    {
     "data": {
      "text/plain": [
       "(85439, 26655)"
      ]
     },
     "execution_count": 620,
     "metadata": {},
     "output_type": "execute_result"
    }
   ],
   "source": [
    "df_matrix.shape"
   ]
  },
  {
   "cell_type": "markdown",
   "id": "7b54f329",
   "metadata": {},
   "source": [
    "## Entrada de Dados"
   ]
  },
  {
   "cell_type": "code",
   "execution_count": null,
   "id": "08784c85",
   "metadata": {},
   "outputs": [],
   "source": [
    "available_wines = [w.lower() for w in df[\"designation\"].values]\n",
    "\n",
    "random_wines = df.sample(3)[\"designation\"].values.tolist()"
   ]
  },
  {
   "cell_type": "code",
   "execution_count": null,
   "id": "5c848ac5",
   "metadata": {},
   "outputs": [
    {
     "name": "stdout",
     "output_type": "stream",
     "text": [
      "\n",
      "Sugestões de vinhos:\n",
      "- The Chairman Series\n",
      "- Ridgecrest Vineyards Reserve\n",
      "- Indian Wells\n",
      "\n",
      "❌ Vinho não disponível. Tente novamente.\n",
      "\n",
      "Sugestões de vinhos:\n",
      "- LFNG Blind Trust\n",
      "- Ried Rüsselgarten Select\n",
      "- Barton\n",
      "\n",
      "🍷 Vinho aleatório selecionado: privat reserva brut nature rosé\n"
     ]
    }
   ],
   "source": [
    "while True:\n",
    "    print(\"\\nSugestões de vinhos:\")\n",
    "    for wine in random_wines:\n",
    "        print(f\"- {wine}\")\n",
    "        \n",
    "    chosen_wine = input(\"\\nDigite o nome de um vinho que você goste (ou digite 000 para aleatório): \").strip().lower()\n",
    "    \n",
    "    if chosen_wine == \"000\":\n",
    "        chosen_wine = df.sample()[\"designation\"].str.lower().values[0]\n",
    "        print(f\"\\n🍷 Vinho aleatório selecionado: {chosen_wine}\")\n",
    "        break\n",
    "    \n",
    "    elif chosen_wine in available_wines: \n",
    "        print(f\"\\n✅ Vinho selecionado: {chosen_wine}\")\n",
    "        break\n",
    "    \n",
    "    else:\n",
    "        print(\"\\n❌ Vinho não disponível. Tente novamente.\")\n",
    "        # Atualiza sugestões aleatórias\n",
    "        random_wines = df[\"designation\"].dropna().sample(3).values"
   ]
  },
  {
   "cell_type": "code",
   "execution_count": 607,
   "id": "5b23aeb6",
   "metadata": {},
   "outputs": [],
   "source": [
    "chosen_wine_line = df.loc[df[\"designation\"].str.lower() == chosen_wine].iloc[0]"
   ]
  },
  {
   "cell_type": "code",
   "execution_count": 608,
   "id": "91ee633a",
   "metadata": {},
   "outputs": [],
   "source": [
    "df = df[df[\"designation\"].str.lower() != chosen_wine]"
   ]
  },
  {
   "cell_type": "code",
   "execution_count": null,
   "id": "47688224",
   "metadata": {},
   "outputs": [],
   "source": [
    "to_compare_list = df[\"clean_description\"].tolist() + [chosen_wine_line[\"clean_description\"]]"
   ]
  },
  {
   "cell_type": "code",
   "execution_count": null,
   "id": "8df39dde",
   "metadata": {},
   "outputs": [],
   "source": [
    "to_compare_matrix = vectorizer.transform(to_compare_list)"
   ]
  },
  {
   "cell_type": "markdown",
   "id": "1e803bd9",
   "metadata": {},
   "source": [
    "## Aplicando o Algoritmo"
   ]
  },
  {
   "cell_type": "code",
   "execution_count": 611,
   "id": "f0be3b20",
   "metadata": {},
   "outputs": [],
   "source": [
    "cosine_sim = cosine_similarity(to_compare_matrix[-1], to_compare_matrix[:-1])"
   ]
  },
  {
   "cell_type": "markdown",
   "id": "b57751fe",
   "metadata": {},
   "source": [
    "## Obtendo e Retornando o Resultado"
   ]
  },
  {
   "cell_type": "code",
   "execution_count": 612,
   "id": "1ce31c6d",
   "metadata": {},
   "outputs": [],
   "source": [
    "most_sim = np.argmax(cosine_sim)"
   ]
  },
  {
   "cell_type": "code",
   "execution_count": null,
   "id": "0ac7726f",
   "metadata": {},
   "outputs": [
    {
     "name": "stdout",
     "output_type": "stream",
     "text": [
      "✅Tendo como base o vinho: privat reserva brut nature rosé\n",
      " Descrição de privat reserva brut nature rosé: \n",
      " ->Fresh, floral, citrusy aromas precede a well-balanced palate. Sleek, dry raspberry and plum flavors are fresh and forward, while the finish on this sparkling Mourvèdre is salty, genuine, elegant and stylish. \n",
      "\n",
      "🍷O vinho recomendado foi: Fincas\n",
      " Descrição de Fincas: \n",
      " ->Fresh aromas of white gumdrop, quince and peach precede a peachy, citrusy palate. Dry citrus flavors persist on a clean finish. This is a fresh Chardonnay where less is more. \n",
      "\n",
      "🧾Similidade calculada: 0.3114928113237686 \n"
     ]
    }
   ],
   "source": [
    "print(f\"✅Tendo como base o vinho: {chosen_wine}\")\n",
    "print(f\" Descrição de {chosen_wine}: \\n ->{chosen_wine_line[\"description\"]} \")\n",
    "\n",
    "\n",
    "print(f\"\\n🍷O vinho recomendado foi: {df[\"designation\"].iloc[most_sim]}\")\n",
    "print(f\" Descrição de {df[\"designation\"].iloc[most_sim]}: \\n ->{df[\"description\"].iloc[most_sim]} \")\n",
    "\n",
    "\n",
    "print(f\"\\n🧾Similidade calculada: {cosine_sim[0,most_sim]}   \")"
   ]
  }
 ],
 "metadata": {
  "kernelspec": {
   "display_name": "venv",
   "language": "python",
   "name": "python3"
  },
  "language_info": {
   "codemirror_mode": {
    "name": "ipython",
    "version": 3
   },
   "file_extension": ".py",
   "mimetype": "text/x-python",
   "name": "python",
   "nbconvert_exporter": "python",
   "pygments_lexer": "ipython3",
   "version": "3.13.2"
  }
 },
 "nbformat": 4,
 "nbformat_minor": 5
}
