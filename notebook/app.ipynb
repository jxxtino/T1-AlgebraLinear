{
 "cells": [
  {
   "cell_type": "markdown",
   "id": "a922ff45",
   "metadata": {},
   "source": [
    "## Importando Bibliotecas"
   ]
  },
  {
   "cell_type": "code",
   "execution_count": null,
   "id": "91ebb9e8",
   "metadata": {},
   "outputs": [],
   "source": [
    "import pandas as pd\n",
    "\n",
    "import nltk\n",
    "from nltk.corpus import stopwords\n",
    "from nltk.tokenize import word_tokenize\n",
    "\n",
    "from sklearn.feature_extraction.text import CountVectorizer\n",
    "from sklearn.metrics.pairwise import cosine_similarity\n",
    "\n",
    "nltk.download('punkt_tab')"
   ]
  },
  {
   "cell_type": "markdown",
   "id": "6d11e76f",
   "metadata": {},
   "source": [
    "## Limpando o Dataset"
   ]
  },
  {
   "cell_type": "code",
   "execution_count": null,
   "id": "76701578",
   "metadata": {},
   "outputs": [],
   "source": [
    "df_raw = pd.read_csv(\"../data/winemag-data-130k-v2.csv\")"
   ]
  },
  {
   "cell_type": "code",
   "execution_count": null,
   "id": "040fd95a",
   "metadata": {},
   "outputs": [],
   "source": [
    "df = df_raw[[\"designation\",\"description\"]][:5000]"
   ]
  },
  {
   "cell_type": "code",
   "execution_count": null,
   "id": "45ce05b0",
   "metadata": {},
   "outputs": [],
   "source": [
    "df = df.drop_duplicates().dropna().reset_index(drop=True)"
   ]
  },
  {
   "cell_type": "markdown",
   "id": "b332d046",
   "metadata": {},
   "source": [
    "## Removendo \"Stop Words\""
   ]
  },
  {
   "cell_type": "code",
   "execution_count": null,
   "id": "cbe51e30",
   "metadata": {},
   "outputs": [],
   "source": [
    "stop_words = set(stopwords.words(\"english\"))"
   ]
  },
  {
   "cell_type": "code",
   "execution_count": null,
   "id": "0555b2de",
   "metadata": {},
   "outputs": [],
   "source": [
    "def remove_stopwords(column: pd.Series) -> pd.Series:\n",
    "    return column.apply(\n",
    "        lambda s: \" \".join(\n",
    "            [\n",
    "             word for word in word_tokenize(s)\n",
    "             if word.lower() not in stop_words \n",
    "             and word.isalpha()\n",
    "             ]\n",
    "        )\n",
    "    )"
   ]
  },
  {
   "cell_type": "code",
   "execution_count": null,
   "id": "325495b6",
   "metadata": {},
   "outputs": [],
   "source": [
    "df[\"clean_description\"] = remove_stopwords(df[\"description\"])"
   ]
  },
  {
   "cell_type": "markdown",
   "id": "a2897dd5",
   "metadata": {},
   "source": [
    "## Vetorizando o Dataframe"
   ]
  },
  {
   "cell_type": "code",
   "execution_count": null,
   "id": "40c318a5",
   "metadata": {},
   "outputs": [],
   "source": [
    "vectorizer = CountVectorizer()"
   ]
  },
  {
   "cell_type": "code",
   "execution_count": null,
   "id": "baf3999a",
   "metadata": {},
   "outputs": [],
   "source": [
    "df_matrix = vectorizer.fit_transform(df[\"clean_description\"])"
   ]
  },
  {
   "cell_type": "markdown",
   "id": "894c9d34",
   "metadata": {},
   "source": [
    "## Calculando a Similaridade por Cosseno"
   ]
  },
  {
   "cell_type": "code",
   "execution_count": null,
   "id": "6679d7d2",
   "metadata": {},
   "outputs": [],
   "source": [
    "cosine_sim = cosine_similarity(df_matrix)"
   ]
  }
 ],
 "metadata": {
  "kernelspec": {
   "display_name": "venv",
   "language": "python",
   "name": "python3"
  },
  "language_info": {
   "codemirror_mode": {
    "name": "ipython",
    "version": 3
   },
   "file_extension": ".py",
   "mimetype": "text/x-python",
   "name": "python",
   "nbconvert_exporter": "python",
   "pygments_lexer": "ipython3",
   "version": "3.13.2"
  }
 },
 "nbformat": 4,
 "nbformat_minor": 5
}
