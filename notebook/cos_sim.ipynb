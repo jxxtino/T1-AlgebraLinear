{
 "cells": [
  {
   "cell_type": "markdown",
   "id": "e90b60d2",
   "metadata": {},
   "source": [
    "# Instalação e Importação de Bibliotecas"
   ]
  },
  {
   "cell_type": "code",
   "execution_count": null,
   "id": "69b8803a",
   "metadata": {},
   "outputs": [],
   "source": [
    "%pip install -r \"../requirements.txt\""
   ]
  },
  {
   "cell_type": "code",
   "execution_count": null,
   "id": "91ebb9e8",
   "metadata": {},
   "outputs": [],
   "source": [
    "import pandas as pd\n",
    "\n",
    "import nltk\n",
    "from nltk.corpus import stopwords\n",
    "from nltk.tokenize import word_tokenize\n",
    "\n",
    "from sklearn.feature_extraction.text import TfidfVectorizer\n",
    "from sklearn.metrics.pairwise import cosine_similarity\n",
    "\n",
    "import numpy as np\n",
    "\n",
    "nltk.download('punkt')"
   ]
  },
  {
   "cell_type": "markdown",
   "id": "6d11e76f",
   "metadata": {},
   "source": [
    "## Leitura e Limpeza dos Dados"
   ]
  },
  {
   "cell_type": "code",
   "execution_count": 66,
   "id": "76701578",
   "metadata": {},
   "outputs": [],
   "source": [
    "df_raw = pd.read_csv(\"../data/winemag-data-130k-v2.csv\")"
   ]
  },
  {
   "cell_type": "code",
   "execution_count": 67,
   "id": "040fd95a",
   "metadata": {},
   "outputs": [],
   "source": [
    "df = df_raw[[\"designation\",\"description\"]]"
   ]
  },
  {
   "cell_type": "code",
   "execution_count": 68,
   "id": "45ce05b0",
   "metadata": {},
   "outputs": [],
   "source": [
    "df = df.drop_duplicates().dropna().reset_index(drop=True)"
   ]
  },
  {
   "cell_type": "code",
   "execution_count": 69,
   "id": "89be9fd0",
   "metadata": {},
   "outputs": [
    {
     "data": {
      "text/html": [
       "<div>\n",
       "<style scoped>\n",
       "    .dataframe tbody tr th:only-of-type {\n",
       "        vertical-align: middle;\n",
       "    }\n",
       "\n",
       "    .dataframe tbody tr th {\n",
       "        vertical-align: top;\n",
       "    }\n",
       "\n",
       "    .dataframe thead th {\n",
       "        text-align: right;\n",
       "    }\n",
       "</style>\n",
       "<table border=\"1\" class=\"dataframe\">\n",
       "  <thead>\n",
       "    <tr style=\"text-align: right;\">\n",
       "      <th></th>\n",
       "      <th>designation</th>\n",
       "      <th>description</th>\n",
       "    </tr>\n",
       "  </thead>\n",
       "  <tbody>\n",
       "    <tr>\n",
       "      <th>81533</th>\n",
       "      <td>Libra</td>\n",
       "      <td>Light strawberry fruit is quickly overtaken wi...</td>\n",
       "    </tr>\n",
       "    <tr>\n",
       "      <th>35518</th>\n",
       "      <td>Les Bertins Premier Cru</td>\n",
       "      <td>The Bertins Premier Cru vineyard is on the sou...</td>\n",
       "    </tr>\n",
       "    <tr>\n",
       "      <th>53264</th>\n",
       "      <td>Sommerberg Grand Cru</td>\n",
       "      <td>Mellow inviting aromas of baked apple make for...</td>\n",
       "    </tr>\n",
       "  </tbody>\n",
       "</table>\n",
       "</div>"
      ],
      "text/plain": [
       "                   designation  \\\n",
       "81533                    Libra   \n",
       "35518  Les Bertins Premier Cru   \n",
       "53264     Sommerberg Grand Cru   \n",
       "\n",
       "                                             description  \n",
       "81533  Light strawberry fruit is quickly overtaken wi...  \n",
       "35518  The Bertins Premier Cru vineyard is on the sou...  \n",
       "53264  Mellow inviting aromas of baked apple make for...  "
      ]
     },
     "execution_count": 69,
     "metadata": {},
     "output_type": "execute_result"
    }
   ],
   "source": [
    "df.sample(3)"
   ]
  },
  {
   "cell_type": "markdown",
   "id": "b332d046",
   "metadata": {},
   "source": [
    "# Remoção de \"Stop Words\""
   ]
  },
  {
   "cell_type": "code",
   "execution_count": 70,
   "id": "cbe51e30",
   "metadata": {},
   "outputs": [],
   "source": [
    "stop_words = set(stopwords.words(\"english\"))"
   ]
  },
  {
   "cell_type": "code",
   "execution_count": 71,
   "id": "0555b2de",
   "metadata": {},
   "outputs": [],
   "source": [
    "def remove_stopwords(column: pd.Series) -> pd.Series:\n",
    "    return column.apply(\n",
    "        lambda description: \" \".join(\n",
    "            [\n",
    "             word for word in word_tokenize(description)\n",
    "             if word.lower() not in stop_words \n",
    "             and word.isalpha()\n",
    "             ]\n",
    "        )\n",
    "    )"
   ]
  },
  {
   "cell_type": "code",
   "execution_count": 72,
   "id": "325495b6",
   "metadata": {},
   "outputs": [],
   "source": [
    "df[\"clean_description\"] = remove_stopwords(df[\"description\"])"
   ]
  },
  {
   "cell_type": "markdown",
   "id": "a2897dd5",
   "metadata": {},
   "source": [
    "# Vetorização com TF-IDF"
   ]
  },
  {
   "cell_type": "code",
   "execution_count": 73,
   "id": "40c318a5",
   "metadata": {},
   "outputs": [],
   "source": [
    "vectorizer = TfidfVectorizer()"
   ]
  },
  {
   "cell_type": "code",
   "execution_count": 74,
   "id": "baf3999a",
   "metadata": {},
   "outputs": [],
   "source": [
    "df_matrix = vectorizer.fit_transform(df[\"clean_description\"])"
   ]
  },
  {
   "cell_type": "code",
   "execution_count": 75,
   "id": "327a54bf",
   "metadata": {},
   "outputs": [
    {
     "data": {
      "text/plain": [
       "(85439, 26655)"
      ]
     },
     "execution_count": 75,
     "metadata": {},
     "output_type": "execute_result"
    }
   ],
   "source": [
    "df_matrix.shape"
   ]
  },
  {
   "cell_type": "markdown",
   "id": "7b54f329",
   "metadata": {},
   "source": [
    "## Entrada de Dados do Usuário"
   ]
  },
  {
   "cell_type": "code",
   "execution_count": 76,
   "id": "08784c85",
   "metadata": {},
   "outputs": [],
   "source": [
    "available_wines = [w.lower() for w in df[\"designation\"].values]\n",
    "\n",
    "random_wines = df.sample(3)[\"designation\"].values.tolist()"
   ]
  },
  {
   "cell_type": "code",
   "execution_count": 77,
   "id": "5c848ac5",
   "metadata": {},
   "outputs": [
    {
     "name": "stdout",
     "output_type": "stream",
     "text": [
      "\n",
      "Sugestões de vinhos:\n",
      "- The Hermit\n",
      "- Terrassen\n",
      "- Terre de Vertus Premier Cru\n",
      "\n",
      "🍷 Vinho aleatório selecionado: dutton ranch shop block\n"
     ]
    }
   ],
   "source": [
    "while True:\n",
    "    print(\"\\nSugestões de vinhos:\")\n",
    "    for wine in random_wines:\n",
    "        print(f\"- {wine}\")\n",
    "        \n",
    "    chosen_wine = input(\"\\nDigite o nome de um vinho que você goste (ou digite 000 para aleatório): \").strip().lower()\n",
    "    \n",
    "    if chosen_wine == \"000\":\n",
    "        chosen_wine = df.sample()[\"designation\"].str.lower().values[0]\n",
    "        print(f\"\\n🍷 Vinho aleatório selecionado: {chosen_wine}\")\n",
    "        break\n",
    "    \n",
    "    elif chosen_wine in available_wines: \n",
    "        print(f\"\\n✅ Vinho selecionado: {chosen_wine}\")\n",
    "        break\n",
    "    \n",
    "    else:\n",
    "        print(\"\\n❌ Vinho não disponível. Tente novamente.\")\n",
    "        random_wines = df[\"designation\"].dropna().sample(3).values"
   ]
  },
  {
   "cell_type": "code",
   "execution_count": 78,
   "id": "5b23aeb6",
   "metadata": {},
   "outputs": [],
   "source": [
    "chosen_wine_line = df.loc[df[\"designation\"].str.lower() == chosen_wine].iloc[0]"
   ]
  },
  {
   "cell_type": "code",
   "execution_count": 79,
   "id": "91ee633a",
   "metadata": {},
   "outputs": [],
   "source": [
    "df = df[df[\"designation\"].str.lower() != chosen_wine]"
   ]
  },
  {
   "cell_type": "code",
   "execution_count": 80,
   "id": "47688224",
   "metadata": {},
   "outputs": [],
   "source": [
    "to_compare_list = df[\"clean_description\"].tolist() + [chosen_wine_line[\"clean_description\"]]"
   ]
  },
  {
   "cell_type": "code",
   "execution_count": 81,
   "id": "8df39dde",
   "metadata": {},
   "outputs": [],
   "source": [
    "to_compare_matrix = vectorizer.transform(to_compare_list)"
   ]
  },
  {
   "cell_type": "markdown",
   "id": "1e803bd9",
   "metadata": {},
   "source": [
    "# Aplicação do Algoritmo de Similaridade"
   ]
  },
  {
   "cell_type": "code",
   "execution_count": 82,
   "id": "f0be3b20",
   "metadata": {},
   "outputs": [],
   "source": [
    "cosine_sim = cosine_similarity(to_compare_matrix[-1], to_compare_matrix[:-1])"
   ]
  },
  {
   "cell_type": "markdown",
   "id": "b57751fe",
   "metadata": {},
   "source": [
    "# Retorno dos Resultados"
   ]
  },
  {
   "cell_type": "code",
   "execution_count": 83,
   "id": "1ce31c6d",
   "metadata": {},
   "outputs": [],
   "source": [
    "most_sim = np.argmax(cosine_sim)"
   ]
  },
  {
   "cell_type": "code",
   "execution_count": 84,
   "id": "0ac7726f",
   "metadata": {},
   "outputs": [
    {
     "name": "stdout",
     "output_type": "stream",
     "text": [
      "✅Tendo como base o vinho: dutton ranch shop block\n",
      " Descrição: \n",
      " ->This is great white wine, especially at this price. With no oak, it shows pure, clean orange, pineapple, fig and vanilla flavors that are brightened by crisp acidity. Flashy and showy, yet complex, it's a beautiful wine to drink now. \n",
      "\n",
      "🍷O vinho recomendado foi: Estate Monte Bello Vineyards\n",
      " Descrição: \n",
      " ->Rich, ripe and flashy, with honey, pineapple and orange jam and toasty oak flavors. It's brightened with crisp acidity. With some heat from alcohol, it's deliciously approachable now. \n",
      "\n",
      "🧾Similidade calculada: 0.372587494342177   \n"
     ]
    }
   ],
   "source": [
    "print(f\"✅Tendo como base o vinho: {chosen_wine}\")\n",
    "print(f\" Descrição: \\n ->{chosen_wine_line[\"description\"]} \")\n",
    "\n",
    "\n",
    "print(f\"\\n🍷O vinho recomendado foi: {df[\"designation\"].iloc[most_sim]}\")\n",
    "print(f\" Descrição: \\n ->{df[\"description\"].iloc[most_sim]} \")\n",
    "\n",
    "\n",
    "print(f\"\\n🧾Similidade calculada: {cosine_sim[0,most_sim]}   \")"
   ]
  }
 ],
 "metadata": {
  "kernelspec": {
   "display_name": "Python 3",
   "language": "python",
   "name": "python3"
  },
  "language_info": {
   "codemirror_mode": {
    "name": "ipython",
    "version": 3
   },
   "file_extension": ".py",
   "mimetype": "text/x-python",
   "name": "python",
   "nbconvert_exporter": "python",
   "pygments_lexer": "ipython3",
   "version": "3.12.4"
  }
 },
 "nbformat": 4,
 "nbformat_minor": 5
}
