{
 "cells": [
  {
   "cell_type": "markdown",
   "id": "e90b60d2",
   "metadata": {},
   "source": [
    "# Instalação e Importação de Bibliotecas"
   ]
  },
  {
   "cell_type": "code",
   "execution_count": null,
   "id": "69b8803a",
   "metadata": {},
   "outputs": [],
   "source": [
    "%pip install -r \"../requirements.txt\""
   ]
  },
  {
   "cell_type": "code",
   "execution_count": null,
   "id": "91ebb9e8",
   "metadata": {},
   "outputs": [
    {
     "name": "stderr",
     "output_type": "stream",
     "text": [
      "[nltk_data] Downloading package punkt to\n",
      "[nltk_data]     C:\\Users\\55139\\AppData\\Roaming\\nltk_data...\n",
      "[nltk_data]   Package punkt is already up-to-date!\n",
      "[nltk_data] Downloading package stopwords to\n",
      "[nltk_data]     C:\\Users\\55139\\AppData\\Roaming\\nltk_data...\n",
      "[nltk_data]   Package stopwords is already up-to-date!\n"
     ]
    },
    {
     "data": {
      "text/plain": [
       "True"
      ]
     },
     "execution_count": 27,
     "metadata": {},
     "output_type": "execute_result"
    }
   ],
   "source": [
    "import pandas as pd\n",
    "\n",
    "import nltk\n",
    "from nltk.corpus import stopwords\n",
    "from nltk.tokenize import word_tokenize\n",
    "\n",
    "from sklearn.feature_extraction.text import TfidfVectorizer\n",
    "from sklearn.metrics.pairwise import cosine_similarity\n",
    "\n",
    "import numpy as np\n",
    "\n",
    "nltk.download('punkt')\n",
    "nltk.download('stopwords')"
   ]
  },
  {
   "cell_type": "markdown",
   "id": "6d11e76f",
   "metadata": {},
   "source": [
    "## Leitura e Limpeza dos Dados"
   ]
  },
  {
   "cell_type": "code",
   "execution_count": 28,
   "id": "76701578",
   "metadata": {},
   "outputs": [],
   "source": [
    "df_raw = pd.read_csv(\"../data/winemag-data-130k-v2.csv\")"
   ]
  },
  {
   "cell_type": "code",
   "execution_count": 29,
   "id": "040fd95a",
   "metadata": {},
   "outputs": [],
   "source": [
    "df = df_raw[[\"designation\",\"description\"]]"
   ]
  },
  {
   "cell_type": "code",
   "execution_count": 30,
   "id": "45ce05b0",
   "metadata": {},
   "outputs": [],
   "source": [
    "df = df.drop_duplicates().dropna().reset_index(drop=True)"
   ]
  },
  {
   "cell_type": "code",
   "execution_count": 31,
   "id": "89be9fd0",
   "metadata": {},
   "outputs": [
    {
     "data": {
      "text/html": [
       "<div>\n",
       "<style scoped>\n",
       "    .dataframe tbody tr th:only-of-type {\n",
       "        vertical-align: middle;\n",
       "    }\n",
       "\n",
       "    .dataframe tbody tr th {\n",
       "        vertical-align: top;\n",
       "    }\n",
       "\n",
       "    .dataframe thead th {\n",
       "        text-align: right;\n",
       "    }\n",
       "</style>\n",
       "<table border=\"1\" class=\"dataframe\">\n",
       "  <thead>\n",
       "    <tr style=\"text-align: right;\">\n",
       "      <th></th>\n",
       "      <th>designation</th>\n",
       "      <th>description</th>\n",
       "    </tr>\n",
       "  </thead>\n",
       "  <tbody>\n",
       "    <tr>\n",
       "      <th>43158</th>\n",
       "      <td>Cuvée 4</td>\n",
       "      <td>The light-gold color of this wine shows its ma...</td>\n",
       "    </tr>\n",
       "    <tr>\n",
       "      <th>58656</th>\n",
       "      <td>Reserve</td>\n",
       "      <td>This wine is 86% Cabernet Sauvignon and 14% Pe...</td>\n",
       "    </tr>\n",
       "    <tr>\n",
       "      <th>70240</th>\n",
       "      <td>Le Vigne di Turano</td>\n",
       "      <td>The Sartori family is behind this wonderful vi...</td>\n",
       "    </tr>\n",
       "  </tbody>\n",
       "</table>\n",
       "</div>"
      ],
      "text/plain": [
       "              designation                                        description\n",
       "43158             Cuvée 4  The light-gold color of this wine shows its ma...\n",
       "58656             Reserve  This wine is 86% Cabernet Sauvignon and 14% Pe...\n",
       "70240  Le Vigne di Turano  The Sartori family is behind this wonderful vi..."
      ]
     },
     "execution_count": 31,
     "metadata": {},
     "output_type": "execute_result"
    }
   ],
   "source": [
    "df.sample(3)"
   ]
  },
  {
   "cell_type": "markdown",
   "id": "b332d046",
   "metadata": {},
   "source": [
    "# Remoção de \"Stop Words\""
   ]
  },
  {
   "cell_type": "code",
   "execution_count": 32,
   "id": "cbe51e30",
   "metadata": {},
   "outputs": [],
   "source": [
    "stop_words = set(stopwords.words(\"english\"))"
   ]
  },
  {
   "cell_type": "code",
   "execution_count": 33,
   "id": "0555b2de",
   "metadata": {},
   "outputs": [],
   "source": [
    "def remove_stopwords(column: pd.Series) -> pd.Series:\n",
    "    return column.apply(\n",
    "        lambda description: \" \".join(\n",
    "            [\n",
    "             word for word in word_tokenize(description)\n",
    "             if word.lower() not in stop_words \n",
    "             and word.isalpha()\n",
    "             ]\n",
    "        )\n",
    "    )"
   ]
  },
  {
   "cell_type": "code",
   "execution_count": 34,
   "id": "325495b6",
   "metadata": {},
   "outputs": [],
   "source": [
    "df[\"clean_description\"] = remove_stopwords(df[\"description\"])"
   ]
  },
  {
   "cell_type": "markdown",
   "id": "a2897dd5",
   "metadata": {},
   "source": [
    "# Vetorização com TF-IDF"
   ]
  },
  {
   "cell_type": "code",
   "execution_count": 35,
   "id": "40c318a5",
   "metadata": {},
   "outputs": [],
   "source": [
    "vectorizer = TfidfVectorizer()"
   ]
  },
  {
   "cell_type": "code",
   "execution_count": 36,
   "id": "baf3999a",
   "metadata": {},
   "outputs": [],
   "source": [
    "df_matrix = vectorizer.fit_transform(df[\"clean_description\"])"
   ]
  },
  {
   "cell_type": "code",
   "execution_count": 37,
   "id": "327a54bf",
   "metadata": {},
   "outputs": [
    {
     "data": {
      "text/plain": [
       "(85439, 26655)"
      ]
     },
     "execution_count": 37,
     "metadata": {},
     "output_type": "execute_result"
    }
   ],
   "source": [
    "df_matrix.shape"
   ]
  },
  {
   "cell_type": "markdown",
   "id": "7b54f329",
   "metadata": {},
   "source": [
    "## Entrada de Dados do Usuário"
   ]
  },
  {
   "cell_type": "code",
   "execution_count": 38,
   "id": "08784c85",
   "metadata": {},
   "outputs": [],
   "source": [
    "available_wines = [w.lower() for w in df[\"designation\"].values]\n",
    "\n",
    "random_wines = df.sample(3)[\"designation\"].values.tolist()"
   ]
  },
  {
   "cell_type": "code",
   "execution_count": 48,
   "id": "5c848ac5",
   "metadata": {},
   "outputs": [
    {
     "name": "stdout",
     "output_type": "stream",
     "text": [
      "\n",
      "Sugestões de vinhos:\n",
      "- Small Lot Reserve\n",
      "- Piastraia\n",
      "- Marquis de Lafayette\n",
      "\n",
      "🍷 Vinho aleatório selecionado: viña famatina\n"
     ]
    }
   ],
   "source": [
    "while True:\n",
    "    print(\"\\nSugestões de vinhos:\")\n",
    "    for wine in random_wines:\n",
    "        print(f\"- {wine}\")\n",
    "        \n",
    "    chosen_wine = input(\"\\nDigite o nome de um vinho que você goste (ou digite 000 para aleatório): \").strip().lower()\n",
    "    \n",
    "    if chosen_wine == \"000\":\n",
    "        chosen_wine = df.sample()[\"designation\"].str.lower().values[0]\n",
    "        print(f\"\\n🍷 Vinho aleatório selecionado: {chosen_wine}\")\n",
    "        break\n",
    "    \n",
    "    elif chosen_wine in available_wines: \n",
    "        print(f\"\\n✅ Vinho selecionado: {chosen_wine}\")\n",
    "        break\n",
    "    \n",
    "    else:\n",
    "        print(\"\\n❌ Vinho não disponível. Tente novamente.\")\n",
    "        random_wines = df[\"designation\"].dropna().sample(3).values"
   ]
  },
  {
   "cell_type": "code",
   "execution_count": 49,
   "id": "5b23aeb6",
   "metadata": {},
   "outputs": [],
   "source": [
    "chosen_wine_line = df.loc[df[\"designation\"].str.lower() == chosen_wine].iloc[0]"
   ]
  },
  {
   "cell_type": "code",
   "execution_count": 50,
   "id": "91ee633a",
   "metadata": {},
   "outputs": [],
   "source": [
    "df = df[df[\"designation\"].str.lower() != chosen_wine]"
   ]
  },
  {
   "cell_type": "code",
   "execution_count": 51,
   "id": "47688224",
   "metadata": {},
   "outputs": [],
   "source": [
    "to_compare_list = df[\"clean_description\"].tolist() + [chosen_wine_line[\"clean_description\"]]"
   ]
  },
  {
   "cell_type": "code",
   "execution_count": 52,
   "id": "8df39dde",
   "metadata": {},
   "outputs": [],
   "source": [
    "to_compare_matrix = vectorizer.transform(to_compare_list)"
   ]
  },
  {
   "cell_type": "code",
   "execution_count": 53,
   "id": "2b070cd1",
   "metadata": {},
   "outputs": [
    {
     "data": {
      "text/plain": [
       "(85403, 26655)"
      ]
     },
     "execution_count": 53,
     "metadata": {},
     "output_type": "execute_result"
    }
   ],
   "source": [
    "to_compare_matrix.shape"
   ]
  },
  {
   "cell_type": "markdown",
   "id": "1e803bd9",
   "metadata": {},
   "source": [
    "# Aplicação do Algoritmo de Similaridade"
   ]
  },
  {
   "cell_type": "code",
   "execution_count": 54,
   "id": "f0be3b20",
   "metadata": {},
   "outputs": [],
   "source": [
    "cosine_sim = cosine_similarity(to_compare_matrix[-1], to_compare_matrix[:-1])"
   ]
  },
  {
   "cell_type": "markdown",
   "id": "b57751fe",
   "metadata": {},
   "source": [
    "# Retorno dos Resultados"
   ]
  },
  {
   "cell_type": "code",
   "execution_count": 55,
   "id": "1ce31c6d",
   "metadata": {},
   "outputs": [],
   "source": [
    "most_sim = np.argmax(cosine_sim)"
   ]
  },
  {
   "cell_type": "code",
   "execution_count": 56,
   "id": "0ac7726f",
   "metadata": {},
   "outputs": [
    {
     "name": "stdout",
     "output_type": "stream",
     "text": [
      "✅Tendo como base o vinho: viña famatina\n",
      " Descrição: \n",
      " ->Stalky and green smelling, with tobacco and stemmy fruit aromas. The palate is scratchy and stewy, with soupy flavors of tomato and raspberry. Herbal on the deficient finish. \n",
      "\n",
      "🍷O vinho recomendado foi: Estate Bottled\n",
      " Descrição: \n",
      " ->This is herbal, burnt and stalky smelling, then raw and herbal tasting, with weedy notes and a scratchy finish. \n",
      "\n",
      "🧾Similidade calculada: 0.3735280540019786   \n"
     ]
    }
   ],
   "source": [
    "print(f\"✅Tendo como base o vinho: {chosen_wine}\")\n",
    "print(f\" Descrição: \\n ->{chosen_wine_line[\"description\"]} \")\n",
    "\n",
    "\n",
    "print(f\"\\n🍷O vinho recomendado foi: {df[\"designation\"].iloc[most_sim]}\")\n",
    "print(f\" Descrição: \\n ->{df[\"description\"].iloc[most_sim]} \")\n",
    "\n",
    "\n",
    "print(f\"\\n🧾Similidade calculada: {cosine_sim[0,most_sim]}   \")"
   ]
  }
 ],
 "metadata": {
  "kernelspec": {
   "display_name": "Python 3",
   "language": "python",
   "name": "python3"
  },
  "language_info": {
   "codemirror_mode": {
    "name": "ipython",
    "version": 3
   },
   "file_extension": ".py",
   "mimetype": "text/x-python",
   "name": "python",
   "nbconvert_exporter": "python",
   "pygments_lexer": "ipython3",
   "version": "3.12.4"
  }
 },
 "nbformat": 4,
 "nbformat_minor": 5
}
